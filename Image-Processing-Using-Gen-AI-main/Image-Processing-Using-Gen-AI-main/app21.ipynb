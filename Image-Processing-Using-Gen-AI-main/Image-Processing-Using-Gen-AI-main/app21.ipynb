{
 "cells": [
  {
   "cell_type": "code",
   "execution_count": 10,
   "metadata": {},
   "outputs": [],
   "source": [
    "import streamlit as st\n",
    "import os\n",
    "import google.generativeai as genai\n",
    "from PIL import Image"
   ]
  },
  {
   "cell_type": "code",
   "execution_count": 11,
   "metadata": {},
   "outputs": [
    {
     "data": {
      "text/plain": [
       "True"
      ]
     },
     "execution_count": 11,
     "metadata": {},
     "output_type": "execute_result"
    }
   ],
   "source": [
    "# Load environment variables\n",
    "from dotenv import load_dotenv\n",
    "load_dotenv()\n",
    "\n"
   ]
  },
  {
   "cell_type": "code",
   "execution_count": 12,
   "metadata": {},
   "outputs": [],
   "source": [
    "# Configure Google API key\n",
    "genai.configure(api_key=os.getenv(\"GOOGLE_API_KEY\"))\n",
    "\n"
   ]
  },
  {
   "cell_type": "code",
   "execution_count": 13,
   "metadata": {},
   "outputs": [],
   "source": [
    "# Function to load Google Gemini Pro Vision API and get response\n",
    "def get_gemini_response(input_prompt, image):\n",
    "    model = genai.GenerativeModel('gemini-pro-vision')\n",
    "    response = model.generate_content([image[0], input_prompt])\n",
    "    return response.text\n",
    "\n"
   ]
  },
  {
   "cell_type": "code",
   "execution_count": 14,
   "metadata": {},
   "outputs": [],
   "source": [
    "# Function to prepare image data for Gemini Pro Vision API\n",
    "def input_image_setup(uploaded_file):\n",
    "    # Check if a file has been uploaded\n",
    "    if uploaded_file is not None:\n",
    "        # Read the file into bytes\n",
    "        bytes_data = uploaded_file.getvalue()\n",
    "\n",
    "        image_parts = [\n",
    "            {\n",
    "                \"mime_type\": uploaded_file.type,  # Get the mime type of the uploaded file\n",
    "                \"data\": bytes_data\n",
    "            }\n",
    "        ]\n",
    "        return image_parts\n",
    "    else:\n",
    "        raise FileNotFoundError(\"No file uploaded\")\n",
    "\n"
   ]
  },
  {
   "cell_type": "code",
   "execution_count": 15,
   "metadata": {},
   "outputs": [
    {
     "data": {
      "text/plain": [
       "DeltaGenerator()"
      ]
     },
     "execution_count": 15,
     "metadata": {},
     "output_type": "execute_result"
    }
   ],
   "source": [
    "# Initialize Streamlit app\n",
    "st.set_page_config(page_title=\"Image Processing Techniques with AI\")\n",
    "st.header(\"Image Processing Techniques with AI\")\n",
    "\n"
   ]
  },
  {
   "cell_type": "code",
   "execution_count": 16,
   "metadata": {},
   "outputs": [],
   "source": [
    "# File upload\n",
    "uploaded_file = st.file_uploader(\"Choose an image...\", type=[\"jpg\", \"jpeg\", \"png\"])\n",
    "if uploaded_file is not None:\n",
    "    image = Image.open(uploaded_file)\n",
    "    st.image(image, caption=\"Uploaded Image.\", use_column_width=True)\n",
    "\n"
   ]
  },
  {
   "cell_type": "code",
   "execution_count": 17,
   "metadata": {},
   "outputs": [],
   "source": [
    "# Default prompt\n",
    "default_prompt = \"\"\"\n",
    "You are an Expert in Image Processing and you have to detect the Fly in the uploaded image by the User.\n",
    "\n",
    "Display the Final Answer as Detected in Green Color otherwise Not Detected in Red Color in Bold\n",
    "\n",
    "Note : Only the Answer should be Detected or Not Detected (Other than that Nothing to be Given)\n",
    "\"\"\"\n",
    "\n"
   ]
  },
  {
   "cell_type": "code",
   "execution_count": 18,
   "metadata": {},
   "outputs": [],
   "source": [
    "# Submit button\n",
    "submit = st.button(\"Submit\")\n",
    "\n"
   ]
  },
  {
   "cell_type": "code",
   "execution_count": 19,
   "metadata": {},
   "outputs": [],
   "source": [
    "# If submit button is clicked\n",
    "if submit:\n",
    "    # Check if image is uploaded\n",
    "    if uploaded_file is None:\n",
    "        st.error(\"Please upload an image.\")\n",
    "    else:\n",
    "        custom_prompt = default_prompt\n",
    "        image_data = input_image_setup(uploaded_file)\n",
    "        response = get_gemini_response(custom_prompt, image_data)\n",
    "        st.subheader(\"Response:\")\n",
    "        st.write(response)\n"
   ]
  }
 ],
 "metadata": {
  "kernelspec": {
   "display_name": "base",
   "language": "python",
   "name": "python3"
  },
  "language_info": {
   "codemirror_mode": {
    "name": "ipython",
    "version": 3
   },
   "file_extension": ".py",
   "mimetype": "text/x-python",
   "name": "python",
   "nbconvert_exporter": "python",
   "pygments_lexer": "ipython3",
   "version": "3.12.2"
  }
 },
 "nbformat": 4,
 "nbformat_minor": 2
}
